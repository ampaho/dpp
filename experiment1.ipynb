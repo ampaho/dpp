{
 "cells": [
  {
   "cell_type": "code",
   "execution_count": 11,
   "metadata": {},
   "outputs": [],
   "source": [
    "import numpy as np\n",
    "from numpy.random import rand, randn\n",
    "from scipy.linalg import qr\n",
    "from numpy.linalg import matrix_rank\n",
    "import matplotlib.pyplot as plt\n",
    "from dppy.finite_dpps import FiniteDPP\n",
    "import copy\n",
    "from collections import Counter"
   ]
  },
  {
   "cell_type": "code",
   "execution_count": 4,
   "metadata": {},
   "outputs": [],
   "source": [
    "M = np.array([[1, 0, 0, 0, 0, 0, 0, 0, 0, 1],\n",
    "              [1, 1, 0, 0, 0, 0, 0, 0, 1, 1],\n",
    "              [1, 1, 0, 0, 0, 0, 0, 0, 1, 1],\n",
    "              [1, 1, 0, 0, 0, 0, 0, 0, 1, 1],\n",
    "              [1, 1, 0, 0, 0, 0, 0, 0, 1, 1],\n",
    "              [1, 1, 0, 0, 0, 0, 0, 0, 1, 1],\n",
    "              [1, 1, 0, 0, 0, 0, 0, 0, 1, 1],\n",
    "              [1, 1, 0, 0, 0, 0, 0, 0, 1, 1],\n",
    "              [1, 1, 0, 0, 0, 0, 0, 0, 1, 1],\n",
    "              [1, 1, 0, 0, 0, 0, 0, 0, 1, 1]\n",
    "             ])"
   ]
  },
  {
   "cell_type": "markdown",
   "metadata": {},
   "source": [
    "## Rank = 2"
   ]
  },
  {
   "cell_type": "code",
   "execution_count": 5,
   "metadata": {},
   "outputs": [
    {
     "name": "stdout",
     "output_type": "stream",
     "text": [
      "2\n"
     ]
    }
   ],
   "source": [
    "rank_ = matrix_rank(M)\n",
    "print(rank_)"
   ]
  },
  {
   "cell_type": "code",
   "execution_count": 6,
   "metadata": {},
   "outputs": [
    {
     "data": {
      "image/png": "[encoded data removed]",
      "text/plain": [
       "<Figure size 432x288 with 2 Axes>"
      ]
     },
     "metadata": {
      "needs_background": "light"
     },
     "output_type": "display_data"
    }
   ],
   "source": [
    "plt.imshow(M)\n",
    "plt.colorbar()\n",
    "plt.show()"
   ]
  },
  {
   "cell_type": "code",
   "execution_count": 7,
   "metadata": {},
   "outputs": [],
   "source": [
    "eig_vecs, _ = qr(M, mode='economic')\n",
    "eig_vals = rand(M.shape[0])  # 0< <1"
   ]
  },
  {
   "cell_type": "markdown",
   "metadata": {},
   "source": [
    "## Finite DPP"
   ]
  },
  {
   "cell_type": "code",
   "execution_count": 8,
   "metadata": {},
   "outputs": [],
   "source": [
    "DPP = FiniteDPP('correlation',\n",
    "                **{'K': (eig_vecs*eig_vals).dot(eig_vecs.T)})"
   ]
  },
  {
   "cell_type": "markdown",
   "metadata": {},
   "source": [
    "## Subsampling"
   ]
  },
  {
   "cell_type": "code",
   "execution_count": 9,
   "metadata": {},
   "outputs": [
    {
     "name": "stdout",
     "output_type": "stream",
     "text": [
      "[4, 0, 7, 5, 2, 3, 6, 1, 6, 7, 1, 5, 0, 3, 6, 7, 6, 7, 1, 2, 4, 1, 7, 6, 9, 6, 9, 2, 5, 1, 7, 4, 7, 6, 4, 9, 3, 9, 2, 7, 6, 4, 6, 7, 4, 1, 9, 2, 4, 1, 6, 7]\n"
     ]
    }
   ],
   "source": [
    "#Flush previous samples\n",
    "DPP.flush_samples()\n",
    "\n",
    "# Sample and take flatten lists of lists\n",
    "for _ in range(10):\n",
    "    DPP.sample_exact()\n",
    "\n",
    "samples_ = DPP.list_of_samples\n",
    "samples__ = list()\n",
    "for l in samples_:\n",
    "    samples__.extend(l)\n",
    "    \n",
    "print(samples__)"
   ]
  },
  {
   "cell_type": "code",
   "execution_count": 16,
   "metadata": {},
   "outputs": [
    {
     "name": "stdout",
     "output_type": "stream",
     "text": [
      "[7, 6]\n"
     ]
    }
   ],
   "source": [
    "samples_freq_counter = Counter(samples__)\n",
    "mc = samples_freq_counter.most_common(rank_)\n",
    "indices = [ k for k, v in mc ]\n",
    "print(indices)"
   ]
  },
  {
   "cell_type": "code",
   "execution_count": 17,
   "metadata": {},
   "outputs": [],
   "source": [
    "N = copy.deepcopy(M)\n",
    "\n",
    "for i in range(10):\n",
    "    if i not in indices:\n",
    "        N[i] = np.zeros(M.shape[0])"
   ]
  },
  {
   "cell_type": "markdown",
   "metadata": {},
   "source": [
    "## Plot subsamples\n",
    "\n",
    "DPP selected 2 rows that are exactly identical! Am I doing something wrong?\n",
    "\n",
    "Also, I was expecting the first data point to always be included in the subsample to increase diversity."
   ]
  },
  {
   "cell_type": "code",
   "execution_count": 19,
   "metadata": {},
   "outputs": [
    {
     "data": {
      "image/png": "[encoded data removed]",
      "text/plain": [
       "<Figure size 432x288 with 2 Axes>"
      ]
     },
     "metadata": {
      "needs_background": "light"
     },
     "output_type": "display_data"
    }
   ],
   "source": [
    "plt.imshow(N)\n",
    "plt.colorbar()\n",
    "plt.show()"
   ]
  },
  {
   "cell_type": "markdown",
   "metadata": {},
   "source": [
    "## What I was expecting"
   ]
  },
  {
   "cell_type": "code",
   "execution_count": 22,
   "metadata": {},
   "outputs": [],
   "source": [
    "expected_datapoints = [0, 3]\n",
    "O = copy.deepcopy(M)\n",
    "\n",
    "for i in range(10):\n",
    "    if i not in expected_datapoints:\n",
    "        O[i] = np.zeros(M.shape[0])"
   ]
  },
  {
   "cell_type": "code",
   "execution_count": 23,
   "metadata": {},
   "outputs": [
    {
     "data": {
      "image/png": "[encoded data removed]",
      "text/plain": [
       "<Figure size 432x288 with 2 Axes>"
      ]
     },
     "metadata": {
      "needs_background": "light"
     },
     "output_type": "display_data"
    }
   ],
   "source": [
    "plt.imshow(O)\n",
    "plt.colorbar()\n",
    "plt.show()"
   ]
  },
  {
   "cell_type": "code",
   "execution_count": null,
   "metadata": {},
   "outputs": [],
   "source": []
  }
 ],
 "metadata": {
  "kernelspec": {
   "display_name": "Python 3",
   "language": "python",
   "name": "python3"
  },
  "language_info": {
   "codemirror_mode": {
    "name": "ipython",
    "version": 3
   },
   "file_extension": ".py",
   "mimetype": "text/x-python",
   "name": "python",
   "nbconvert_exporter": "python",
   "pygments_lexer": "ipython3",
   "version": "3.6.7"
  }
 },
 "nbformat": 4,
 "nbformat_minor": 2
}
